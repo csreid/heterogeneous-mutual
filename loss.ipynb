{
 "cells": [
  {
   "cell_type": "code",
   "execution_count": 14,
   "metadata": {},
   "outputs": [],
   "source": [
    "import matplotlib.pyplot as plt\n",
    "\n",
    "from qlearner import QLearning\n",
    "from adp import CartPoleADP\n",
    "from mutual import MutHook\n",
    "from IPython.display import clear_output\n",
    "import gym\n",
    "\n",
    "adp = CartPoleADP(\n",
    "    nbins=9,\n",
    "    gamma=0.99\n",
    ")\n",
    "qlrn_mut = QLearning(\n",
    "    gamma=0.99,\n",
    "    mutual_steps=1000\n",
    ")\n",
    "qlrn_std = QLearning(\n",
    "    gamma=0.99\n",
    ")\n",
    "\n",
    "hook = MutHook(adp)\n",
    "\n",
    "qlrn_mut.set_mutual_agents([adp])\n",
    "qlrn_mut.set_mutual_hook(hook)"
   ]
  },
  {
   "cell_type": "code",
   "execution_count": 15,
   "metadata": {},
   "outputs": [
    {
     "name": "stdout",
     "output_type": "stream",
     "text": [
      "4999\n",
      "None\n",
      "(16.111820220947266, tensor(16.1118, grad_fn=<MseLossBackward>), 0)\n",
      "(3585327.5, tensor(3585327.5000, grad_fn=<MseLossBackward>), 0)\n"
     ]
    }
   ],
   "source": [
    "envs = [gym.make('CartPole-v1') for _ in range(3)]\n",
    "s_s = [env.reset() for env in envs]\n",
    "agts = [adp, qlrn_mut, qlrn_std]\n",
    "l_s = [[], [], []]\n",
    "r_s = [0, 0, 0, 0]\n",
    "    \n",
    "for step in range(5000):\n",
    "    clear_output(wait=True)\n",
    "    print(step)\n",
    "    for agt, env, s, loss_log, idx in zip(agts, envs, s_s, l_s, range(3)):\n",
    "        a = agt.get_action(s)\n",
    "        sp, r, done, _ = env.step(a)\n",
    "        r_s[idx] += r\n",
    "        l = agt.handle_transition(s, a, r, sp, done)\n",
    "        print(l)\n",
    "        loss_log.append(l)\n",
    "        s = sp\n",
    "        \n",
    "        if done:\n",
    "            done = False\n",
    "            s = env.reset()\n",
    "            r_s[idx] = 0\n",
    "            \n",
    "        s_s[idx] = s"
   ]
  },
  {
   "cell_type": "code",
   "execution_count": 16,
   "metadata": {},
   "outputs": [
    {
     "data": {
      "text/plain": [
       "[159.0, 14.0, 45.0, 0]"
      ]
     },
     "execution_count": 16,
     "metadata": {},
     "output_type": "execute_result"
    }
   ],
   "source": [
    "r_s"
   ]
  },
  {
   "cell_type": "code",
   "execution_count": 81,
   "metadata": {},
   "outputs": [
    {
     "data": {
      "image/png": "[encoded data removed]",
      "text/plain": [
       "<Figure size 432x288 with 2 Axes>"
      ]
     },
     "metadata": {
      "needs_background": "light"
     },
     "output_type": "display_data"
    }
   ],
   "source": [
    "fig, (t, b) = plt.subplots(nrows=2, sharex=True)\n",
    "\n",
    "#t.plot(np.log(np.convolve([l[0] for l in l_s[1][31:]], np.ones(200) / 200, mode='valid')), label='Mutual Q', color='red')\n",
    "t.plot(np.convolve([l[1].item() for l in l_s[1][31:]], np.ones(200) / 200, mode='valid'), label='Mutual Q (TD)', color='blue')\n",
    "\n",
    "b.plot(np.convolve([l[0] for l in l_s[2][31:]], np.ones(200) / 200, mode='valid'), label='Standard Q', color='blue')\n",
    "\n",
    "b.legend()\n",
    "t.legend()\n",
    "\n",
    "b.set_xlabel('Steps')\n",
    "\n",
    "fig.suptitle('Comparison of Loss During Training')\n",
    "plt.show()"
   ]
  },
  {
   "cell_type": "code",
   "execution_count": null,
   "metadata": {},
   "outputs": [],
   "source": []
  }
 ],
 "metadata": {
  "kernelspec": {
   "display_name": "Python 3",
   "language": "python",
   "name": "python3"
  },
  "language_info": {
   "codemirror_mode": {
    "name": "ipython",
    "version": 3
   },
   "file_extension": ".py",
   "mimetype": "text/x-python",
   "name": "python",
   "nbconvert_exporter": "python",
   "pygments_lexer": "ipython3",
   "version": "3.7.9"
  }
 },
 "nbformat": 4,
 "nbformat_minor": 4
}
